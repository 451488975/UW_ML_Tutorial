{
 "cells": [
  {
   "cell_type": "markdown",
   "metadata": {},
   "source": [
    "# (4) Training and Validation"
   ]
  },
  {
   "cell_type": "markdown",
   "metadata": {},
   "source": [
    "One of the key factors which limits the use of neural networks in many industrial applications has been the difficulty of demonstrating that a trained network will continue to generate reliable outputs once it is in routine use. [Source](https://www.microsoft.com/en-us/research/wp-content/uploads/2016/05/Bishop-Novelty-Detection_IEE-Proceedings-94b.pdf).\n",
    "\n",
    "That is the motivation for the [validation and test splits](https://towardsdatascience.com/train-validation-and-test-sets-72cb40cba9e7) mentioned in the (2) Data Structure tutorial. In that tutorial we seperated training and testing data, and later during the training we will specify the validation fraction. In order to train our model, first we need to extract the training and testing data and build the model."
   ]
  },
  {
   "cell_type": "code",
   "execution_count": 1,
   "metadata": {},
   "outputs": [
    {
     "name": "stderr",
     "output_type": "stream",
     "text": [
      "Using TensorFlow backend.\n"
     ]
    }
   ],
   "source": [
    "import tensorflow as tf\n",
    "import keras\n",
    "from keras.layers import Input, Dense\n",
    "from keras.models import Model\n",
    "from keras.optimizers import Adam\n",
    "from sklearn.model_selection import train_test_split\n",
    "import os\n",
    "import h5py\n",
    "import pandas as pd"
   ]
  },
  {
   "cell_type": "code",
   "execution_count": 2,
   "metadata": {},
   "outputs": [],
   "source": [
    "Inputs = Input(shape=(10,))\n",
    "x = Dense(32, activation='relu', kernel_initializer='lecun_uniform', name='fc1_relu')(Inputs)\n",
    "predictions = Dense(1, activation='sigmoid', kernel_initializer='lecun_uniform', name = 'output_sigmoid')(x)\n",
    "model = Model(inputs=Inputs, outputs=predictions)"
   ]
  },
  {
   "cell_type": "code",
   "execution_count": 3,
   "metadata": {},
   "outputs": [],
   "source": [
    "f = h5py.File('C:\\\\Users\\\\45148\\\\UW-EPE-ML-Tutorials\\\\processed-pythia82-lhc13-all-pt1-50k-r1_h022_e0175_t220_nonu_truth.z', 'r')\n",
    "treeArray = f['t_allpar_new'][()]\n",
    "\n",
    "features = ['j_zlogz', 'j_c1_b0_mmdt', 'j_c1_b1_mmdt', 'j_c2_b1_mmdt', 'j_d2_b1_mmdt', 'j_d2_a1_b1_mmdt',\n",
    "            'j_m2_b1_mmdt', 'j_n2_b1_mmdt', 'j_mass_mmdt', 'j_multiplicity']\n",
    "labels = ['j_t']\n",
    "\n",
    "features_labels_df = pd.DataFrame(treeArray,columns=list(set(features+labels)))\n",
    "features_labels_df = features_labels_df.drop_duplicates()\n",
    "\n",
    "features_val = features_labels_df[features].values #Convert to numpy array\n",
    "labels_val = features_labels_df[labels].values"
   ]
  },
  {
   "cell_type": "code",
   "execution_count": null,
   "metadata": {},
   "outputs": [],
   "source": [
    "X_train, X_test, y_train, y_test = train_test_split(features_val, labels_val, test_size=0.2, random_state=42)"
   ]
  },
  {
   "cell_type": "markdown",
   "metadata": {},
   "source": [
    "## Training"
   ]
  },
  {
   "cell_type": "markdown",
   "metadata": {},
   "source": [
    "The [loss function](https://machinelearningmastery.com/loss-and-loss-functions-for-training-deep-learning-neural-networks/) essentially represents the error calculated from predicted and true values; in practice, this function be hard to determine.\n",
    "\n",
    "Binary cross-entropy is the standard loss function for binary classification problems. It is used when the target values are eitiher {0,1} and only one target is possible at a time. Mathematically, it is the preferred loss function under the inference framework of maximum likelihood. It is the loss function to be evaluated first and only changed if you have a good reason.\n",
    "\n",
    "An optimizer is the function which updates the weight parameters to minimize the loss function. The loss function represents the surface, and the optimizer is the method to reach the lowest point of that surface. Here is an article about different kinds of [optimizers](https://medium.com/datadriveninvestor/overview-of-different-optimizers-for-neural-networks-e0ed119440c3). The [learning rate](https://towardsdatascience.com/understanding-learning-rates-and-how-it-improves-performance-in-deep-learning-d0d4059c1c10) affects the magnitude of change between each training example, or how 'far' to descend the loss gradient. It is generally a very small number, and there are callback methods to adjust the learning rate dynamically.\n",
    "\n",
    "In this model, we will be using Adam because it is a generally effective optimizer."
   ]
  },
  {
   "cell_type": "code",
   "execution_count": null,
   "metadata": {},
   "outputs": [],
   "source": [
    "adam = Adam(lr=0.0001)\n",
    "model.compile(optimizer=adam, loss='binary_crossentropy', metrics=['accuracy'])"
   ]
  },
  {
   "cell_type": "markdown",
   "metadata": {},
   "source": [
    "Next, we will use the [model.fit()](https://www.tensorflow.org/api_docs/python/tf/keras/Model#fit) function to train the network. Read about the parameters in the documentation.\n",
    "\n",
    "Batch_size represents the size of data bins used to train the network, since with large volumes of data it cannot fit all onto your RAM at one time. An epoch is one iteration through the entire shuffled data set; with additional epochs, the data is reshuffled and used to train the network again. Callbacks are used in between epochs, and can be highly customized.\n",
    "\n",
    "The validation split represents the fraction of the remaining training data to use as a validation set during the training. That is important so that the loss or error of the network will be computed on data which it hasn't trained on, leading to more robust solutions. Then towards the end, the network is again evaluated on the _test_ data set that we split off in the beginning, which the network has never seen before."
   ]
  },
  {
   "cell_type": "code",
   "execution_count": null,
   "metadata": {
    "scrolled": false
   },
   "outputs": [],
   "source": [
    "history = model.fit(X_train, y_train, batch_size = 1024, epochs = 100, \n",
    "                    validation_split = 0.25, shuffle = True, callbacks = None,\n",
    "                    use_multiprocessing=True, workers=4)"
   ]
  },
  {
   "cell_type": "markdown",
   "metadata": {},
   "source": [
    "The model is now trained! It took 100s on my intel-i7 CPU. It is possible for tensorflow to be optimized using a GPU, if you have an NVIDIA graphics card that is CUDA compatible. Feel free to enable this yourself if applicable, but for these tutorials and many smaller models a CPU will work at a reasonable enough pace.\n",
    "\n",
    "The output of the fit function is a history object, which contains the values of loss for the training data as well as the validation data, and whatever metrics specified for each epoch.\n",
    "\n",
    "To save the model, Tensorflow has very user friendly functions,"
   ]
  },
  {
   "cell_type": "code",
   "execution_count": null,
   "metadata": {},
   "outputs": [],
   "source": [
    "model.save('two-layer') #Saves to local directory; model file 'two-layer' with no extension"
   ]
  },
  {
   "cell_type": "markdown",
   "metadata": {},
   "source": [
    "And it is just as easy to load the model. This is useful when the training takes a long time, so you only need to train it once. Both the save and load arguments can take different paths to the file, but here it is in the local directory."
   ]
  },
  {
   "cell_type": "code",
   "execution_count": null,
   "metadata": {},
   "outputs": [],
   "source": [
    "loaded_model = keras.models.load_model('two-layer') #Loads from local directory"
   ]
  },
  {
   "cell_type": "code",
   "execution_count": null,
   "metadata": {},
   "outputs": [],
   "source": [
    "loaded_model.summary()"
   ]
  },
  {
   "cell_type": "markdown",
   "metadata": {},
   "source": [
    "## Validation"
   ]
  },
  {
   "cell_type": "markdown",
   "metadata": {},
   "source": [
    "To validate the robustness of the networks predictions and ensure that the network isn't overfit on our sample, we want to compare the loss on the training set versus the loss on the validation set. The plot comparing the two over each epoch is called the 'learning curve'."
   ]
  },
  {
   "cell_type": "code",
   "execution_count": 4,
   "metadata": {},
   "outputs": [],
   "source": [
    "import matplotlib.pyplot as plt"
   ]
  },
  {
   "cell_type": "code",
   "execution_count": 5,
   "metadata": {},
   "outputs": [],
   "source": [
    "def learningCurve(history):\n",
    "    plt.figure(figsize=(10,8))\n",
    "    plt.plot(history.history['loss'], linewidth=1)\n",
    "    plt.plot(history.history['val_loss'], linewidth=1)\n",
    "    plt.title('Model Loss over Epochs')\n",
    "    plt.ylabel('Loss')\n",
    "    plt.xlabel('Epoch')\n",
    "    plt.legend(['training sample loss','validation sample loss'])\n",
    "    #plt.savefig('Learning_curve.pdf')\n",
    "    plt.show()\n",
    "    plt.close()"
   ]
  },
  {
   "cell_type": "code",
   "execution_count": null,
   "metadata": {},
   "outputs": [],
   "source": [
    "learningCurve(history)"
   ]
  },
  {
   "cell_type": "markdown",
   "metadata": {},
   "source": [
    "Divergence of the validation and training sample losses implies overfitting on your training data set. The above is quite a beautiful learning curve. You can see that it converges around 0.3, and every training epoch after around 10 epochs gives marginal improvement.\n",
    "\n",
    "So we've discovered that the model is not overfit, next we want to know how it performs. One very popular measure of _classifier_ performance is called the [receiver operating characteristic (ROC) curve](https://en.wikipedia.org/wiki/Receiver_operating_characteristic). It is a plot of the true positive rate (signal efficiency) versus the false positive rate (background efficiency). [Understanding the ROC curve](https://towardsdatascience.com/understanding-auc-roc-curve-68b2303cc9c5).\n",
    "\n",
    "We will use our *test* sample that we split in the very beginning, and use our network to predict the output and compare it with the true output."
   ]
  },
  {
   "cell_type": "code",
   "execution_count": null,
   "metadata": {},
   "outputs": [],
   "source": [
    "labels_pred = model.predict(features_val)"
   ]
  },
  {
   "cell_type": "markdown",
   "metadata": {},
   "source": [
    "That was the _inference_ calculation. The network just predicted the labels based on the features provided. I am providing you with this method to plot the learning curve, as this is a machine learning tutorial not a plotting tutorial; that said, you should inspect the code and make sure you understand the use of roc_curve() and auc() and what exactly is being plotted."
   ]
  },
  {
   "cell_type": "code",
   "execution_count": 6,
   "metadata": {},
   "outputs": [],
   "source": [
    "def makeRoc(features_val, labels_val, labels, model, outputDir='', outputSuffix=''):\n",
    "    from sklearn.metrics import roc_curve, auc\n",
    "    labels_pred = model.predict(features_val)\n",
    "    df = pd.DataFrame()\n",
    "    fpr = {}\n",
    "    tpr = {}\n",
    "    auc1 = {}\n",
    "    plt.figure(figsize=(10,8))       \n",
    "    for i, label in enumerate(labels):\n",
    "        df[label] = labels_val[:,i]\n",
    "        df[label + '_pred'] = labels_pred[:,i]\n",
    "        fpr[label], tpr[label], threshold = roc_curve(df[label],df[label+'_pred'])\n",
    "        auc1[label] = auc(fpr[label], tpr[label])\n",
    "        plt.plot(fpr[label],tpr[label],label='%s tagger, AUC = %.1f%%'%(label.replace('j_',''),auc1[label]*100.))\n",
    "    plt.plot([0, 1], [0, 1], lw=1, color='black', linestyle='--')\n",
    "    #plt.semilogy()\n",
    "    plt.xlabel(\"Background Efficiency\")\n",
    "    plt.ylabel(\"Signal Efficiency\")\n",
    "    plt.xlim([-0.05, 1.05])\n",
    "    plt.ylim(0.001,1.05)\n",
    "    plt.grid(True)\n",
    "    plt.legend(loc='lower right')\n",
    "    plt.figtext(0.25, 0.90,'LSTM ROC Curve',fontweight='bold', wrap=True, horizontalalignment='right', fontsize=14)\n",
    "    #plt.figtext(0.35, 0.90,'preliminary', style='italic', wrap=True, horizontalalignment='center', fontsize=14) \n",
    "    #plt.savefig('%sROC_%s.pdf'%(outputDir, outputSuffix))\n",
    "    return labels_pred"
   ]
  },
  {
   "cell_type": "code",
   "execution_count": null,
   "metadata": {},
   "outputs": [],
   "source": [
    "y_pred = makeRoc(X_test, y_test, labels, model, outputSuffix='two-layer')"
   ]
  },
  {
   "cell_type": "markdown",
   "metadata": {},
   "source": [
    "The above is the learning curve for the two-layer model. A perfect classifier would look like a line from coordinates (0,0) to (1,0) to (1,1); following the left and upper border of the plot. A classifier whose AUC is below 50% can be reversed in implementation to give greater than 50% AUC. The worst possible classifier would follow the black dotted line, with a minimum AUC of 50% and offer no greater descrimination than flipping a coin.\n",
    "\n",
    "After the exercise, this concludes the ML tutorial. You've downloaded and understood the structure of a sample LHC data set (pre-processed; the processing of the data is another problem of its own), built a model, trained it, and validated it through inspecting the learning curve and ROC curve. Congratulations!\n",
    "\n",
    "##### Exercise\n",
    "\n",
    "Train and plot the learning and ROC curves of the four-layer model. Use the Adam and binary-crossentropy losses with the same parameters. The training might take longer, so it is okay to stop it once it has more or less converged ( >= 20 epochs). Use the provided methods to do the plotting."
   ]
  },
  {
   "cell_type": "code",
   "execution_count": 7,
   "metadata": {},
   "outputs": [],
   "source": [
    "Inputs_exercise = Input(shape=(16,))\n",
    "a = Dense(64, activation='relu', kernel_initializer='lecun_uniform', name='fc1_relu')(Inputs_exercise)\n",
    "b = Dense(32, activation='relu', kernel_initializer='lecun_uniform', name='fc2_relu')(a)\n",
    "c = Dense(32, activation='relu', kernel_initializer='lecun_uniform', name='fc3_relu')(b)\n",
    "predictions_exercise = Dense(5, activation='sigmoid', kernel_initializer='lecun_uniform', name = 'output_sigmoid')(c)\n",
    "model_exercise = Model(inputs=Inputs_exercise, outputs=predictions_exercise)"
   ]
  },
  {
   "cell_type": "code",
   "execution_count": 8,
   "metadata": {},
   "outputs": [],
   "source": [
    "features_exercise = ['j_zlogz', 'j_c1_b0_mmdt', 'j_c1_b1_mmdt', 'j_c1_b2_mmdt', 'j_c2_b1_mmdt', 'j_c2_b2_mmdt', \n",
    "                     'j_d2_b1_mmdt', 'j_d2_b2_mmdt', 'j_d2_a1_b1_mmdt', 'j_d2_a1_b2_mmdt', 'j_m2_b1_mmdt', 'j_m2_b2_mmdt', \n",
    "                     'j_n2_b1_mmdt', 'j_n2_b2_mmdt', 'j_mass_mmdt', 'j_multiplicity']\n",
    "labels_exercise = ['j_g', 'j_q', 'j_w', 'j_z', 'j_t']\n",
    "\n",
    "features_labels_df_exercise = pd.DataFrame(treeArray,columns=features_exercise+labels_exercise)\n",
    "features_labels_df_exercise = features_labels_df_exercise.drop_duplicates()\n",
    "\n",
    "features_val_exercise = features_labels_df_exercise[features_exercise].values #Convert to numpy array\n",
    "labels_val_exercise = features_labels_df_exercise[labels_exercise].values"
   ]
  },
  {
   "cell_type": "code",
   "execution_count": 9,
   "metadata": {},
   "outputs": [],
   "source": [
    "X_train_exercise, X_test_exercise, y_train_exercise, y_test_exercise = train_test_split(features_val_exercise, \n",
    "                                                                                        labels_val_exercise, \n",
    "                                                                                        test_size=0.2, \n",
    "                                                                                        random_state=42)"
   ]
  },
  {
   "cell_type": "code",
   "execution_count": 10,
   "metadata": {},
   "outputs": [],
   "source": [
    "adam_exercise = Adam(lr=0.0001)\n",
    "model_exercise.compile(optimizer=adam_exercise, loss='binary_crossentropy', metrics=['accuracy'])"
   ]
  },
  {
   "cell_type": "code",
   "execution_count": 11,
   "metadata": {},
   "outputs": [
    {
     "name": "stdout",
     "output_type": "stream",
     "text": [
      "Epoch 1/100\n",
      "579/579 [==============================] - 1s 2ms/step - loss: 0.6403 - accuracy: 0.3210 - val_loss: 0.4527 - val_accuracy: 0.3837\n",
      "Epoch 2/100\n",
      "579/579 [==============================] - 1s 2ms/step - loss: 0.4407 - accuracy: 0.3979 - val_loss: 0.4289 - val_accuracy: 0.4153\n",
      "Epoch 3/100\n",
      "579/579 [==============================] - 1s 2ms/step - loss: 0.4207 - accuracy: 0.4319 - val_loss: 0.4108 - val_accuracy: 0.4595\n",
      "Epoch 4/100\n",
      "579/579 [==============================] - 1s 1ms/step - loss: 0.4013 - accuracy: 0.5136 - val_loss: 0.3908 - val_accuracy: 0.5457\n",
      "Epoch 5/100\n",
      "579/579 [==============================] - 1s 1ms/step - loss: 0.3845 - accuracy: 0.5669 - val_loss: 0.3767 - val_accuracy: 0.5825\n",
      "Epoch 6/100\n",
      "579/579 [==============================] - 1s 1ms/step - loss: 0.3731 - accuracy: 0.5850 - val_loss: 0.3682 - val_accuracy: 0.5854\n",
      "Epoch 7/100\n",
      "579/579 [==============================] - 1s 1ms/step - loss: 0.3657 - accuracy: 0.5940 - val_loss: 0.3617 - val_accuracy: 0.5975\n",
      "Epoch 8/100\n",
      "579/579 [==============================] - 1s 1ms/step - loss: 0.3602 - accuracy: 0.6023 - val_loss: 0.3569 - val_accuracy: 0.6123\n",
      "Epoch 9/100\n",
      "579/579 [==============================] - 1s 2ms/step - loss: 0.3556 - accuracy: 0.6118 - val_loss: 0.3526 - val_accuracy: 0.6234\n",
      "Epoch 10/100\n",
      "579/579 [==============================] - 1s 1ms/step - loss: 0.3511 - accuracy: 0.6218 - val_loss: 0.3482 - val_accuracy: 0.6212\n",
      "Epoch 11/100\n",
      "579/579 [==============================] - 1s 2ms/step - loss: 0.3468 - accuracy: 0.6278 - val_loss: 0.3438 - val_accuracy: 0.6330\n",
      "Epoch 12/100\n",
      "579/579 [==============================] - 1s 1ms/step - loss: 0.3428 - accuracy: 0.6333 - val_loss: 0.3400 - val_accuracy: 0.6394\n",
      "Epoch 13/100\n",
      "579/579 [==============================] - 1s 1ms/step - loss: 0.3391 - accuracy: 0.6371 - val_loss: 0.3364 - val_accuracy: 0.6425\n",
      "Epoch 14/100\n",
      "579/579 [==============================] - 1s 1ms/step - loss: 0.3358 - accuracy: 0.6403 - val_loss: 0.3334 - val_accuracy: 0.6457\n",
      "Epoch 15/100\n",
      "579/579 [==============================] - 1s 1ms/step - loss: 0.3324 - accuracy: 0.6430 - val_loss: 0.3302 - val_accuracy: 0.6462\n",
      "Epoch 16/100\n",
      "579/579 [==============================] - 1s 1ms/step - loss: 0.3295 - accuracy: 0.6461 - val_loss: 0.3273 - val_accuracy: 0.6463\n",
      "Epoch 17/100\n",
      "579/579 [==============================] - 1s 2ms/step - loss: 0.3269 - accuracy: 0.6486 - val_loss: 0.3247 - val_accuracy: 0.6511\n",
      "Epoch 18/100\n",
      "579/579 [==============================] - 1s 1ms/step - loss: 0.3243 - accuracy: 0.6510 - val_loss: 0.3227 - val_accuracy: 0.6540\n",
      "Epoch 19/100\n",
      "579/579 [==============================] - 1s 1ms/step - loss: 0.3221 - accuracy: 0.6535 - val_loss: 0.3205 - val_accuracy: 0.6577\n",
      "Epoch 20/100\n",
      "579/579 [==============================] - 1s 2ms/step - loss: 0.3200 - accuracy: 0.6561 - val_loss: 0.3189 - val_accuracy: 0.6594\n",
      "Epoch 21/100\n",
      "579/579 [==============================] - 1s 1ms/step - loss: 0.3182 - accuracy: 0.6581 - val_loss: 0.3167 - val_accuracy: 0.6625\n",
      "Epoch 22/100\n",
      "579/579 [==============================] - 1s 1ms/step - loss: 0.3164 - accuracy: 0.6609 - val_loss: 0.3149 - val_accuracy: 0.6635\n",
      "Epoch 23/100\n",
      "579/579 [==============================] - 1s 1ms/step - loss: 0.3145 - accuracy: 0.6632 - val_loss: 0.3134 - val_accuracy: 0.6675\n",
      "Epoch 24/100\n",
      "579/579 [==============================] - 1s 1ms/step - loss: 0.3129 - accuracy: 0.6662 - val_loss: 0.3115 - val_accuracy: 0.6687\n",
      "Epoch 25/100\n",
      "579/579 [==============================] - 1s 1ms/step - loss: 0.3113 - accuracy: 0.6682 - val_loss: 0.3099 - val_accuracy: 0.6725\n",
      "Epoch 26/100\n",
      "579/579 [==============================] - 1s 1ms/step - loss: 0.3098 - accuracy: 0.6709 - val_loss: 0.3095 - val_accuracy: 0.6721\n",
      "Epoch 27/100\n",
      "579/579 [==============================] - 1s 1ms/step - loss: 0.3083 - accuracy: 0.6728 - val_loss: 0.3067 - val_accuracy: 0.6763\n",
      "Epoch 28/100\n",
      "579/579 [==============================] - 1s 2ms/step - loss: 0.3068 - accuracy: 0.6752 - val_loss: 0.3056 - val_accuracy: 0.6777\n",
      "Epoch 29/100\n",
      "579/579 [==============================] - 1s 2ms/step - loss: 0.3055 - accuracy: 0.6773 - val_loss: 0.3049 - val_accuracy: 0.6776\n",
      "Epoch 30/100\n",
      "579/579 [==============================] - 1s 1ms/step - loss: 0.3042 - accuracy: 0.6791 - val_loss: 0.3039 - val_accuracy: 0.6803\n",
      "Epoch 31/100\n",
      "579/579 [==============================] - 1s 1ms/step - loss: 0.3028 - accuracy: 0.6812 - val_loss: 0.3023 - val_accuracy: 0.6821\n",
      "Epoch 32/100\n",
      "579/579 [==============================] - 1s 2ms/step - loss: 0.3016 - accuracy: 0.6831 - val_loss: 0.3003 - val_accuracy: 0.6860\n",
      "Epoch 33/100\n",
      "579/579 [==============================] - 1s 1ms/step - loss: 0.3004 - accuracy: 0.6844 - val_loss: 0.2993 - val_accuracy: 0.6861\n",
      "Epoch 34/100\n",
      "579/579 [==============================] - 1s 2ms/step - loss: 0.2993 - accuracy: 0.6862 - val_loss: 0.2986 - val_accuracy: 0.6882\n",
      "Epoch 35/100\n",
      "579/579 [==============================] - 1s 1ms/step - loss: 0.2981 - accuracy: 0.6876 - val_loss: 0.2968 - val_accuracy: 0.6897\n",
      "Epoch 36/100\n",
      "579/579 [==============================] - 1s 1ms/step - loss: 0.2971 - accuracy: 0.6892 - val_loss: 0.2970 - val_accuracy: 0.6876\n",
      "Epoch 37/100\n",
      "579/579 [==============================] - 1s 1ms/step - loss: 0.2961 - accuracy: 0.6902 - val_loss: 0.2953 - val_accuracy: 0.6918\n",
      "Epoch 38/100\n",
      "579/579 [==============================] - 1s 2ms/step - loss: 0.2952 - accuracy: 0.6913 - val_loss: 0.2940 - val_accuracy: 0.6940\n",
      "Epoch 39/100\n",
      "579/579 [==============================] - 1s 2ms/step - loss: 0.2941 - accuracy: 0.6927 - val_loss: 0.2942 - val_accuracy: 0.6927\n",
      "Epoch 40/100\n",
      "579/579 [==============================] - 1s 1ms/step - loss: 0.2933 - accuracy: 0.6940 - val_loss: 0.2929 - val_accuracy: 0.6961\n",
      "Epoch 41/100\n",
      "579/579 [==============================] - 1s 2ms/step - loss: 0.2925 - accuracy: 0.6947 - val_loss: 0.2914 - val_accuracy: 0.6967\n",
      "Epoch 42/100\n",
      "579/579 [==============================] - 1s 2ms/step - loss: 0.2916 - accuracy: 0.6955 - val_loss: 0.2907 - val_accuracy: 0.6964\n",
      "Epoch 43/100\n",
      "579/579 [==============================] - 1s 2ms/step - loss: 0.2909 - accuracy: 0.6960 - val_loss: 0.2900 - val_accuracy: 0.6974\n",
      "Epoch 44/100\n",
      "579/579 [==============================] - 1s 2ms/step - loss: 0.2903 - accuracy: 0.6965 - val_loss: 0.2895 - val_accuracy: 0.6971\n",
      "Epoch 45/100\n",
      "579/579 [==============================] - 1s 2ms/step - loss: 0.2894 - accuracy: 0.6975 - val_loss: 0.2890 - val_accuracy: 0.6980\n",
      "Epoch 46/100\n",
      "579/579 [==============================] - 1s 1ms/step - loss: 0.2889 - accuracy: 0.6977 - val_loss: 0.2906 - val_accuracy: 0.6988\n",
      "Epoch 47/100\n",
      "579/579 [==============================] - 1s 1ms/step - loss: 0.2882 - accuracy: 0.6988 - val_loss: 0.2881 - val_accuracy: 0.6988\n",
      "Epoch 48/100\n",
      "579/579 [==============================] - 1s 1ms/step - loss: 0.2877 - accuracy: 0.6988 - val_loss: 0.2866 - val_accuracy: 0.7008\n",
      "Epoch 49/100\n",
      "579/579 [==============================] - 1s 2ms/step - loss: 0.2871 - accuracy: 0.6995 - val_loss: 0.2867 - val_accuracy: 0.7012\n",
      "Epoch 50/100\n",
      "579/579 [==============================] - 1s 1ms/step - loss: 0.2866 - accuracy: 0.6997 - val_loss: 0.2860 - val_accuracy: 0.6997\n",
      "Epoch 51/100\n",
      "579/579 [==============================] - 1s 2ms/step - loss: 0.2861 - accuracy: 0.7002 - val_loss: 0.2852 - val_accuracy: 0.7016\n",
      "Epoch 52/100\n",
      "579/579 [==============================] - 1s 1ms/step - loss: 0.2857 - accuracy: 0.7005 - val_loss: 0.2849 - val_accuracy: 0.7007\n",
      "Epoch 53/100\n",
      "579/579 [==============================] - 1s 2ms/step - loss: 0.2852 - accuracy: 0.7009 - val_loss: 0.2847 - val_accuracy: 0.7009\n",
      "Epoch 54/100\n",
      "579/579 [==============================] - 1s 1ms/step - loss: 0.2848 - accuracy: 0.7012 - val_loss: 0.2840 - val_accuracy: 0.7031\n",
      "Epoch 55/100\n",
      "579/579 [==============================] - 1s 1ms/step - loss: 0.2846 - accuracy: 0.7014 - val_loss: 0.2833 - val_accuracy: 0.7027\n",
      "Epoch 56/100\n",
      "579/579 [==============================] - 1s 2ms/step - loss: 0.2840 - accuracy: 0.7019 - val_loss: 0.2830 - val_accuracy: 0.7036\n",
      "Epoch 57/100\n",
      "579/579 [==============================] - 1s 2ms/step - loss: 0.2836 - accuracy: 0.7021 - val_loss: 0.2826 - val_accuracy: 0.7028\n"
     ]
    },
    {
     "name": "stdout",
     "output_type": "stream",
     "text": [
      "Epoch 58/100\n",
      "579/579 [==============================] - 1s 1ms/step - loss: 0.2832 - accuracy: 0.7024 - val_loss: 0.2832 - val_accuracy: 0.7030\n",
      "Epoch 59/100\n",
      "579/579 [==============================] - 1s 1ms/step - loss: 0.2830 - accuracy: 0.7023 - val_loss: 0.2819 - val_accuracy: 0.7040\n",
      "Epoch 60/100\n",
      "579/579 [==============================] - 1s 1ms/step - loss: 0.2824 - accuracy: 0.7030 - val_loss: 0.2819 - val_accuracy: 0.7051\n",
      "Epoch 61/100\n",
      "579/579 [==============================] - 1s 1ms/step - loss: 0.2819 - accuracy: 0.7036 - val_loss: 0.2808 - val_accuracy: 0.7047\n",
      "Epoch 62/100\n",
      "579/579 [==============================] - 1s 2ms/step - loss: 0.2816 - accuracy: 0.7037 - val_loss: 0.2811 - val_accuracy: 0.7045\n",
      "Epoch 63/100\n",
      "579/579 [==============================] - 1s 1ms/step - loss: 0.2812 - accuracy: 0.7040 - val_loss: 0.2812 - val_accuracy: 0.7046\n",
      "Epoch 64/100\n",
      "579/579 [==============================] - 1s 1ms/step - loss: 0.2807 - accuracy: 0.7044 - val_loss: 0.2805 - val_accuracy: 0.7042\n",
      "Epoch 65/100\n",
      "579/579 [==============================] - 1s 1ms/step - loss: 0.2805 - accuracy: 0.7048 - val_loss: 0.2807 - val_accuracy: 0.7039\n",
      "Epoch 66/100\n",
      "579/579 [==============================] - 1s 1ms/step - loss: 0.2804 - accuracy: 0.7046 - val_loss: 0.2794 - val_accuracy: 0.7052\n",
      "Epoch 67/100\n",
      "579/579 [==============================] - 1s 1ms/step - loss: 0.2800 - accuracy: 0.7049 - val_loss: 0.2798 - val_accuracy: 0.7047\n",
      "Epoch 68/100\n",
      "579/579 [==============================] - 1s 1ms/step - loss: 0.2797 - accuracy: 0.7052 - val_loss: 0.2788 - val_accuracy: 0.7058\n",
      "Epoch 69/100\n",
      "579/579 [==============================] - 1s 1ms/step - loss: 0.2796 - accuracy: 0.7053 - val_loss: 0.2783 - val_accuracy: 0.7063\n",
      "Epoch 70/100\n",
      "579/579 [==============================] - 1s 2ms/step - loss: 0.2792 - accuracy: 0.7055 - val_loss: 0.2788 - val_accuracy: 0.7064\n",
      "Epoch 71/100\n",
      "579/579 [==============================] - 1s 2ms/step - loss: 0.2791 - accuracy: 0.7057 - val_loss: 0.2788 - val_accuracy: 0.7054\n",
      "Epoch 72/100\n",
      "579/579 [==============================] - 1s 2ms/step - loss: 0.2787 - accuracy: 0.7062 - val_loss: 0.2774 - val_accuracy: 0.7064\n",
      "Epoch 73/100\n",
      "579/579 [==============================] - 1s 2ms/step - loss: 0.2785 - accuracy: 0.7061 - val_loss: 0.2783 - val_accuracy: 0.7064\n",
      "Epoch 74/100\n",
      "579/579 [==============================] - 1s 2ms/step - loss: 0.2782 - accuracy: 0.7066 - val_loss: 0.2777 - val_accuracy: 0.7058\n",
      "Epoch 75/100\n",
      "579/579 [==============================] - 1s 2ms/step - loss: 0.2780 - accuracy: 0.7067 - val_loss: 0.2767 - val_accuracy: 0.7075\n",
      "Epoch 76/100\n",
      "579/579 [==============================] - 1s 2ms/step - loss: 0.2779 - accuracy: 0.7066 - val_loss: 0.2780 - val_accuracy: 0.7056\n",
      "Epoch 77/100\n",
      "579/579 [==============================] - 1s 2ms/step - loss: 0.2776 - accuracy: 0.7070 - val_loss: 0.2777 - val_accuracy: 0.7073\n",
      "Epoch 78/100\n",
      "579/579 [==============================] - 1s 2ms/step - loss: 0.2774 - accuracy: 0.7071 - val_loss: 0.2771 - val_accuracy: 0.7077\n",
      "Epoch 79/100\n",
      "579/579 [==============================] - 1s 2ms/step - loss: 0.2772 - accuracy: 0.7072 - val_loss: 0.2765 - val_accuracy: 0.7085\n",
      "Epoch 80/100\n",
      "579/579 [==============================] - 1s 1ms/step - loss: 0.2770 - accuracy: 0.7075 - val_loss: 0.2760 - val_accuracy: 0.7086\n",
      "Epoch 81/100\n",
      "579/579 [==============================] - 1s 1ms/step - loss: 0.2768 - accuracy: 0.7077 - val_loss: 0.2760 - val_accuracy: 0.7080\n",
      "Epoch 82/100\n",
      "579/579 [==============================] - 1s 1ms/step - loss: 0.2767 - accuracy: 0.7076 - val_loss: 0.2760 - val_accuracy: 0.7078\n",
      "Epoch 83/100\n",
      "579/579 [==============================] - 1s 1ms/step - loss: 0.2764 - accuracy: 0.7079 - val_loss: 0.2755 - val_accuracy: 0.7081\n",
      "Epoch 84/100\n",
      "579/579 [==============================] - 1s 2ms/step - loss: 0.2762 - accuracy: 0.7081 - val_loss: 0.2750 - val_accuracy: 0.7099\n",
      "Epoch 85/100\n",
      "579/579 [==============================] - 1s 1ms/step - loss: 0.2761 - accuracy: 0.7082 - val_loss: 0.2781 - val_accuracy: 0.7053\n",
      "Epoch 86/100\n",
      "579/579 [==============================] - 1s 1ms/step - loss: 0.2759 - accuracy: 0.7083 - val_loss: 0.2757 - val_accuracy: 0.7088\n",
      "Epoch 87/100\n",
      "579/579 [==============================] - 1s 1ms/step - loss: 0.2756 - accuracy: 0.7087 - val_loss: 0.2745 - val_accuracy: 0.7098\n",
      "Epoch 88/100\n",
      "579/579 [==============================] - 1s 1ms/step - loss: 0.2755 - accuracy: 0.7087 - val_loss: 0.2749 - val_accuracy: 0.7093\n",
      "Epoch 89/100\n",
      "579/579 [==============================] - 1s 2ms/step - loss: 0.2754 - accuracy: 0.7088 - val_loss: 0.2760 - val_accuracy: 0.7085\n",
      "Epoch 90/100\n",
      "579/579 [==============================] - 1s 1ms/step - loss: 0.2752 - accuracy: 0.7091 - val_loss: 0.2751 - val_accuracy: 0.7084\n",
      "Epoch 91/100\n",
      "579/579 [==============================] - 1s 1ms/step - loss: 0.2750 - accuracy: 0.7093 - val_loss: 0.2743 - val_accuracy: 0.7115\n",
      "Epoch 92/100\n",
      "579/579 [==============================] - 1s 1ms/step - loss: 0.2747 - accuracy: 0.7097 - val_loss: 0.2757 - val_accuracy: 0.7084\n",
      "Epoch 93/100\n",
      "579/579 [==============================] - 1s 2ms/step - loss: 0.2747 - accuracy: 0.7093 - val_loss: 0.2744 - val_accuracy: 0.7093\n",
      "Epoch 94/100\n",
      "579/579 [==============================] - 1s 1ms/step - loss: 0.2743 - accuracy: 0.7102 - val_loss: 0.2731 - val_accuracy: 0.7112\n",
      "Epoch 95/100\n",
      "579/579 [==============================] - 1s 1ms/step - loss: 0.2741 - accuracy: 0.7102 - val_loss: 0.2731 - val_accuracy: 0.7118\n",
      "Epoch 96/100\n",
      "579/579 [==============================] - 1s 1ms/step - loss: 0.2742 - accuracy: 0.7101 - val_loss: 0.2753 - val_accuracy: 0.7091\n",
      "Epoch 97/100\n",
      "579/579 [==============================] - 1s 1ms/step - loss: 0.2740 - accuracy: 0.7104 - val_loss: 0.2729 - val_accuracy: 0.7124\n",
      "Epoch 98/100\n",
      "579/579 [==============================] - 1s 1ms/step - loss: 0.2738 - accuracy: 0.7103 - val_loss: 0.2725 - val_accuracy: 0.7117\n",
      "Epoch 99/100\n",
      "579/579 [==============================] - 1s 1ms/step - loss: 0.2736 - accuracy: 0.7106 - val_loss: 0.2727 - val_accuracy: 0.7115\n",
      "Epoch 100/100\n",
      "579/579 [==============================] - 1s 2ms/step - loss: 0.2734 - accuracy: 0.7106 - val_loss: 0.2724 - val_accuracy: 0.7119\n"
     ]
    }
   ],
   "source": [
    "history_exercise = model_exercise.fit(X_train_exercise, y_train_exercise, batch_size = 1024, epochs = 100, \n",
    "                                      validation_split = 0.25, shuffle = True, callbacks = None, \n",
    "                                      use_multiprocessing=True, workers=4)"
   ]
  },
  {
   "cell_type": "code",
   "execution_count": 12,
   "metadata": {},
   "outputs": [
    {
     "name": "stdout",
     "output_type": "stream",
     "text": [
      "WARNING:tensorflow:From C:\\Users\\45148\\anaconda3\\envs\\EPE_ML_TF2\\lib\\site-packages\\tensorflow\\python\\ops\\resource_variable_ops.py:1817: calling BaseResourceVariable.__init__ (from tensorflow.python.ops.resource_variable_ops) with constraint is deprecated and will be removed in a future version.\n",
      "Instructions for updating:\n",
      "If using Keras pass *_constraint arguments to layers.\n",
      "INFO:tensorflow:Assets written to: four-layer\\assets\n"
     ]
    }
   ],
   "source": [
    "model_exercise.save('four-layer') #Saves to local directory; model file 'two-layer' with no extension"
   ]
  },
  {
   "cell_type": "code",
   "execution_count": 13,
   "metadata": {},
   "outputs": [],
   "source": [
    "loaded_model_exercise = keras.models.load_model('four-layer') #Loads from local directory"
   ]
  },
  {
   "cell_type": "code",
   "execution_count": 14,
   "metadata": {},
   "outputs": [
    {
     "name": "stdout",
     "output_type": "stream",
     "text": [
      "Model: \"model_1\"\n",
      "_________________________________________________________________\n",
      "Layer (type)                 Output Shape              Param #   \n",
      "=================================================================\n",
      "input_2 (InputLayer)         [(None, 16)]              0         \n",
      "_________________________________________________________________\n",
      "fc1_relu (Dense)             (None, 64)                1088      \n",
      "_________________________________________________________________\n",
      "fc2_relu (Dense)             (None, 32)                2080      \n",
      "_________________________________________________________________\n",
      "fc3_relu (Dense)             (None, 32)                1056      \n",
      "_________________________________________________________________\n",
      "output_sigmoid (Dense)       (None, 5)                 165       \n",
      "=================================================================\n",
      "Total params: 4,389\n",
      "Trainable params: 4,389\n",
      "Non-trainable params: 0\n",
      "_________________________________________________________________\n"
     ]
    }
   ],
   "source": [
    "loaded_model_exercise.summary()"
   ]
  },
  {
   "cell_type": "code",
   "execution_count": 15,
   "metadata": {},
   "outputs": [
    {
     "data": {
      "image/png": "[encoded data removed]",
      "text/plain": [
       "<Figure size 720x576 with 1 Axes>"
      ]
     },
     "metadata": {
      "needs_background": "light"
     },
     "output_type": "display_data"
    }
   ],
   "source": [
    "learningCurve(history_exercise)"
   ]
  },
  {
   "cell_type": "code",
   "execution_count": 16,
   "metadata": {},
   "outputs": [
    {
     "data": {
      "image/png": "[encoded data removed]",
      "text/plain": [
       "<Figure size 720x576 with 1 Axes>"
      ]
     },
     "metadata": {
      "needs_background": "light"
     },
     "output_type": "display_data"
    }
   ],
   "source": [
    "y_pred_exercise = makeRoc(X_test_exercise, y_test_exercise, labels_exercise, model_exercise, outputSuffix='four-layer')"
   ]
  },
  {
   "cell_type": "code",
   "execution_count": null,
   "metadata": {},
   "outputs": [],
   "source": []
  }
 ],
 "metadata": {
  "kernelspec": {
   "display_name": "Python 3",
   "language": "python",
   "name": "python3"
  },
  "language_info": {
   "codemirror_mode": {
    "name": "ipython",
    "version": 3
   },
   "file_extension": ".py",
   "mimetype": "text/x-python",
   "name": "python",
   "nbconvert_exporter": "python",
   "pygments_lexer": "ipython3",
   "version": "3.6.10"
  }
 },
 "nbformat": 4,
 "nbformat_minor": 4
}

{
 "cells": [
  {
   "cell_type": "markdown",
   "metadata": {},
   "source": [
    "# (3) Creating a Model"
   ]
  },
  {
   "cell_type": "markdown",
   "metadata": {},
   "source": [
    "The open source packages tensorflow and keras do most of the heavy lifting when it comes to machine learning computation. No need to worry about calculus and backpropogation, just build the model and use .fit(). Learn more about the types of models and a little bit about the math behind the keras and tensorflow functions from [UW CSE 416 Spring 2019](https://courses.cs.washington.edu/courses/cse416/19sp/lectures.html) or similiar in content but with complete access [Andrew Ng's Machine Learning Coursera](https://www.coursera.org/learn/machine-learning?utm_source=gg&utm_medium=sem&utm_content=07-StanfordML-US&campaignid=685340575&adgroupid=52515609594&device=c&keyword=machine%20learning%20mooc&matchtype=b&network=g&devicemodel=&adpostion=&creativeid=273169971757&hide_mobile_promo&gclid=Cj0KCQjwuJz3BRDTARIsAMg-HxX7mT2U1X1Abs98BkFp_IKCypGKMbWTjIiwx4GY-C-3LrQ5R82TtrkaAqn4EALw_wcB).\n",
    "\n",
    "Now, for building the two-layer model."
   ]
  },
  {
   "cell_type": "code",
   "execution_count": 1,
   "metadata": {},
   "outputs": [
    {
     "name": "stderr",
     "output_type": "stream",
     "text": [
      "Using TensorFlow backend.\n"
     ]
    }
   ],
   "source": [
    "import tensorflow as tf\n",
    "import keras"
   ]
  },
  {
   "cell_type": "code",
   "execution_count": 2,
   "metadata": {},
   "outputs": [],
   "source": [
    "from keras.layers import Input, Dense\n",
    "from keras.models import Model"
   ]
  },
  {
   "cell_type": "markdown",
   "metadata": {},
   "source": [
    "The input of the two-layer network includes 10 features,"
   ]
  },
  {
   "cell_type": "code",
   "execution_count": 3,
   "metadata": {},
   "outputs": [],
   "source": [
    "Inputs = Input(shape=(10,))"
   ]
  },
  {
   "cell_type": "markdown",
   "metadata": {},
   "source": [
    "Arbitrarily we choose 32 as the number of neurons in our one hidden layer. This is a hyperparameter that is best optimized through experimentation, and largely dependent on the data set / function the neural network is approximating. [Source](https://machinelearningmastery.com/how-to-configure-the-number-of-layers-and-nodes-in-a-neural-network/).\n",
    "\n",
    "When you know the function you are trying to approximate has certain characteristics, you can choose an activation function which will approximate the function faster leading to faster training process. ReLu is a good general approximator and Sigmoid is good for classifiers. [Source](https://medium.com/the-theory-of-everything/understanding-activation-functions-in-neural-networks-9491262884e0)\n",
    "\n",
    "Kernel initialization is an important part of building deep neural networks. Proper initialization will help to extract better features and also to converge faster. So, we have to carefully select our filter initializers, but selecting the kernel initializers is also a kind of hyperparameter tuning (We can't tell exactly which kernel initializers to choose). It all depends on the nature of the dataset and the kind of operation you are going to perform on it. [Source](https://blog.goodaudience.com/visualizing-various-filter-initializers-in-keras-ca14c996db22).\n",
    "\n",
    "For our hidden layer we will use ReLu activation, which is often a good place to start. The output layer will have sigmoid activation, which approximates the ideal classifier function. The initializer is the LeCun uniform initializer. It draws samples from a uniform distribution within [-limit, limit] where the limit is sqrt(3 / N) where N is the number of input units in the weight tensor. "
   ]
  },
  {
   "cell_type": "code",
   "execution_count": 4,
   "metadata": {},
   "outputs": [],
   "source": [
    "x = Dense(32, activation='relu', kernel_initializer='lecun_uniform', name='fc1_relu')(Inputs)"
   ]
  },
  {
   "cell_type": "markdown",
   "metadata": {},
   "source": [
    "The output layer of our two-layer network is a single label, so there is 1 node."
   ]
  },
  {
   "cell_type": "code",
   "execution_count": 5,
   "metadata": {},
   "outputs": [],
   "source": [
    "predictions = Dense(1, activation='sigmoid', kernel_initializer='lecun_uniform', name = 'output_sigmoid')(x)"
   ]
  },
  {
   "cell_type": "markdown",
   "metadata": {},
   "source": [
    "Read the [Keras](https://keras.io/api/layers/core_layers/dense/) and [Tensorflow](https://www.tensorflow.org/api_docs/python/tf/keras/initializers/lecun_uniform) documentation to understand the syntax better. Tensorflow 2 does the building of a computational graph and execution all in the backend; all thats left is the creation of these connected layers and putting them together in a Model object.\n",
    "\n",
    "The model with one input layer, one hidden layer and one output layer is called a 'two-layer' model because the inputs are not considered an 'active' layer. the four-layer model similiarly has three hidden layers and one output layer."
   ]
  },
  {
   "cell_type": "code",
   "execution_count": 6,
   "metadata": {},
   "outputs": [],
   "source": [
    "model = Model(inputs=Inputs, outputs=predictions)"
   ]
  },
  {
   "cell_type": "markdown",
   "metadata": {},
   "source": [
    "The two-layer model is complete! Below you can see its structure printed and visualized."
   ]
  },
  {
   "cell_type": "code",
   "execution_count": 7,
   "metadata": {},
   "outputs": [
    {
     "name": "stdout",
     "output_type": "stream",
     "text": [
      "Model: \"model\"\n",
      "_________________________________________________________________\n",
      "Layer (type)                 Output Shape              Param #   \n",
      "=================================================================\n",
      "input_1 (InputLayer)         [(None, 10)]              0         \n",
      "_________________________________________________________________\n",
      "fc1_relu (Dense)             (None, 32)                352       \n",
      "_________________________________________________________________\n",
      "output_sigmoid (Dense)       (None, 1)                 33        \n",
      "=================================================================\n",
      "Total params: 385\n",
      "Trainable params: 385\n",
      "Non-trainable params: 0\n",
      "_________________________________________________________________\n"
     ]
    }
   ],
   "source": [
    "model.summary()"
   ]
  },
  {
   "cell_type": "code",
   "execution_count": 8,
   "metadata": {},
   "outputs": [
    {
     "data": {
      "image/png": "[encoded data removed]",
      "text/plain": [
       "<IPython.core.display.Image object>"
      ]
     },
     "execution_count": 8,
     "metadata": {},
     "output_type": "execute_result"
    }
   ],
   "source": [
    "keras.utils.plot_model(model)"
   ]
  },
  {
   "cell_type": "markdown",
   "metadata": {},
   "source": [
    "Now all thats left is to use the model.fit() method to train it, validate the training, and evaluate its performance."
   ]
  },
  {
   "cell_type": "markdown",
   "metadata": {},
   "source": [
    "##### Exercise\n",
    "\n",
    "Create the four-layer model. Use 64, 32, and 32 nodes for the first, second, and third hidden layers respectively. For all the hidden layers, use the ReLu activation function and LeCun uniform kernel initializer. Print the summary and the visualization. (Hint: What's different about the output layer?)"
   ]
  },
  {
   "cell_type": "code",
   "execution_count": 9,
   "metadata": {},
   "outputs": [],
   "source": [
    "Inputs_exercise = Input(shape=(16,))"
   ]
  },
  {
   "cell_type": "code",
   "execution_count": 10,
   "metadata": {},
   "outputs": [],
   "source": [
    "a = Dense(64, activation='relu', kernel_initializer='lecun_uniform', name='fc1_relu')(Inputs_exercise)\n",
    "b = Dense(32, activation='relu', kernel_initializer='lecun_uniform', name='fc2_relu')(a)\n",
    "c = Dense(32, activation='relu', kernel_initializer='lecun_uniform', name='fc3_relu')(b)"
   ]
  },
  {
   "cell_type": "code",
   "execution_count": 11,
   "metadata": {},
   "outputs": [],
   "source": [
    "predictions_exercise = Dense(5, activation='sigmoid', kernel_initializer='lecun_uniform', name = 'output_sigmoid')(c)"
   ]
  },
  {
   "cell_type": "code",
   "execution_count": 12,
   "metadata": {},
   "outputs": [],
   "source": [
    "model_exercise = Model(inputs=Inputs_exercise, outputs=predictions_exercise)"
   ]
  },
  {
   "cell_type": "code",
   "execution_count": 13,
   "metadata": {},
   "outputs": [
    {
     "name": "stdout",
     "output_type": "stream",
     "text": [
      "Model: \"model_1\"\n",
      "_________________________________________________________________\n",
      "Layer (type)                 Output Shape              Param #   \n",
      "=================================================================\n",
      "input_2 (InputLayer)         [(None, 16)]              0         \n",
      "_________________________________________________________________\n",
      "fc1_relu (Dense)             (None, 64)                1088      \n",
      "_________________________________________________________________\n",
      "fc2_relu (Dense)             (None, 32)                2080      \n",
      "_________________________________________________________________\n",
      "fc3_relu (Dense)             (None, 32)                1056      \n",
      "_________________________________________________________________\n",
      "output_sigmoid (Dense)       (None, 5)                 165       \n",
      "=================================================================\n",
      "Total params: 4,389\n",
      "Trainable params: 4,389\n",
      "Non-trainable params: 0\n",
      "_________________________________________________________________\n"
     ]
    }
   ],
   "source": [
    "model_exercise.summary()"
   ]
  },
  {
   "cell_type": "code",
   "execution_count": 14,
   "metadata": {},
   "outputs": [
    {
     "data": {
      "image/png": "[encoded data removed]",
      "text/plain": [
       "<IPython.core.display.Image object>"
      ]
     },
     "execution_count": 14,
     "metadata": {},
     "output_type": "execute_result"
    }
   ],
   "source": [
    "keras.utils.plot_model(model_exercise)"
   ]
  },
  {
   "cell_type": "code",
   "execution_count": null,
   "metadata": {},
   "outputs": [],
   "source": []
  }
 ],
 "metadata": {
  "kernelspec": {
   "display_name": "Python 3",
   "language": "python",
   "name": "python3"
  },
  "language_info": {
   "codemirror_mode": {
    "name": "ipython",
    "version": 3
   },
   "file_extension": ".py",
   "mimetype": "text/x-python",
   "name": "python",
   "nbconvert_exporter": "python",
   "pygments_lexer": "ipython3",
   "version": "3.6.10"
  }
 },
 "nbformat": 4,
 "nbformat_minor": 4
}
